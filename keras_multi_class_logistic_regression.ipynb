{
 "cells": [
  {
   "attachments": {},
   "cell_type": "markdown",
   "metadata": {},
   "source": [
    "# Multiclass logistic regression using the Keras API\n",
    "\n",
    "Keras is a neural network Application Programming Interface (API) for Python that is tightly integrated with TensorFlow, which is used to build machine learning models. Keras’ models offer a simple, user-friendly way to define a neural network, which will then be built for you by TensorFlow. \n",
    "\n",
    "This notebook will perform the same operations as the multi_class_logistic_regression.ipynb but will user Keras syntax."
   ]
  },
  {
   "attachments": {},
   "cell_type": "markdown",
   "metadata": {},
   "source": [
    "## Step 1: Set up packages"
   ]
  },
  {
   "cell_type": "code",
   "execution_count": 2,
   "metadata": {},
   "outputs": [
    {
     "name": "stdout",
     "output_type": "stream",
     "text": [
      "\n",
      "\u001b[1m[\u001b[0m\u001b[34;49mnotice\u001b[0m\u001b[1;39;49m]\u001b[0m\u001b[39;49m A new release of pip is available: \u001b[0m\u001b[31;49m23.1.1\u001b[0m\u001b[39;49m -> \u001b[0m\u001b[32;49m23.1.2\u001b[0m\n",
      "\u001b[1m[\u001b[0m\u001b[34;49mnotice\u001b[0m\u001b[1;39;49m]\u001b[0m\u001b[39;49m To update, run: \u001b[0m\u001b[32;49mpip install --upgrade pip\u001b[0m\n"
     ]
    }
   ],
   "source": [
    "!pip install -q -U tensorflow"
   ]
  },
  {
   "cell_type": "code",
   "execution_count": 3,
   "metadata": {},
   "outputs": [
    {
     "name": "stderr",
     "output_type": "stream",
     "text": [
      "2023-05-17 15:49:26.894180: I tensorflow/core/platform/cpu_feature_guard.cc:182] This TensorFlow binary is optimized to use available CPU instructions in performance-critical operations.\n",
      "To enable the following instructions: AVX2 FMA, in other operations, rebuild TensorFlow with the appropriate compiler flags.\n"
     ]
    },
    {
     "name": "stdout",
     "output_type": "stream",
     "text": [
      "TensorFlow version: 2.12.0\n"
     ]
    }
   ],
   "source": [
    "from matplotlib import pyplot  \n",
    "import tensorflow as tf\n",
    "print(\"TensorFlow version:\", tf.__version__)"
   ]
  },
  {
   "attachments": {},
   "cell_type": "markdown",
   "metadata": {},
   "source": [
    "## Step 2: Load and prepare the MNIST dataset\n",
    "\n",
    "MNIST data is a collection of hand-written digits that contains 60,000 examples for training and 10,000 examples for testing. The digits have been size-normalized and centered in a fixed-size image (28x28 pixels) with values from 0 to 255. "
   ]
  },
  {
   "cell_type": "code",
   "execution_count": 4,
   "metadata": {},
   "outputs": [],
   "source": [
    "# Load data\n",
    "mnist = tf.keras.datasets.mnist\n",
    "(x_train, y_train), (x_test, y_test) = mnist.load_data()\n",
    "\n",
    "# Normalize the pixel intensities to make sure their values are between 0 to 1\n",
    "# by dividing them by 255.  This also converts the sample data from integers to\n",
    "# floating-point numbers\n",
    "x_train, x_test = x_train / 255.0, x_test / 255.0"
   ]
  },
  {
   "attachments": {},
   "cell_type": "markdown",
   "metadata": {},
   "source": [
    "## Step 3: Build machine learning model\n",
    "\n",
    "Models are the core entity you’ll be working with when using Keras. The models are used to define TensorFlow neural networks by specifying the attributes, functions, and layers you want. \n",
    "\n",
    "The Sequential API is a framework for creating models based on instances of the sequential() class. The model has one input variable, a hidden layer with two neurons, and an output layer with one binary output. Additional layers can be created and added to the model.\n",
    "\n",
    "A Sequential model is not appropriate when:\n",
    "- Your model has multiple inputs or multiple outputs\n",
    "- Any of your layers has multiple inputs or multiple outputs\n",
    "- You need to do layer sharing\n",
    "- You want non-linear topology (e.g. a residual connection, a multi-branch model)"
   ]
  },
  {
   "cell_type": "code",
   "execution_count": 5,
   "metadata": {},
   "outputs": [],
   "source": [
    "# This model uses the Flatten, Dense, and Dropout layers\n",
    "# For each example, the model returns a vector of logits or log-odds scores\n",
    "# one for each class\n",
    "model = tf.keras.models.Sequential([\n",
    "  tf.keras.layers.Flatten(input_shape=(28, 28)), # Flatten the input layer to a vector of length 784\n",
    "  tf.keras.layers.Dense(128, activation='relu'), # Add a hidden layer with 128 neurons and ReLU activation\n",
    "  tf.keras.layers.Dropout(0.2), # Add a dropout layer for previous hidden layer\n",
    "  tf.keras.layers.Dense(10) # Add an output layer with 10 neurons and no activation\n",
    "])"
   ]
  },
  {
   "cell_type": "code",
   "execution_count": 6,
   "metadata": {},
   "outputs": [
    {
     "data": {
      "text/plain": [
       "array([[-0.968958  ,  0.25654188,  0.54456455,  0.33389446, -0.6383831 ,\n",
       "        -0.11961815,  0.22255343, -0.30617988, -0.42158338,  0.8832635 ]],\n",
       "      dtype=float32)"
      ]
     },
     "execution_count": 6,
     "metadata": {},
     "output_type": "execute_result"
    }
   ],
   "source": [
    "predictions = model(x_train[:1]).numpy()\n",
    "predictions"
   ]
  },
  {
   "cell_type": "code",
   "execution_count": 7,
   "metadata": {},
   "outputs": [
    {
     "data": {
      "text/plain": [
       "array([[0.03367784, 0.11470226, 0.15298846, 0.12392695, 0.04687174,\n",
       "        0.07874224, 0.11086922, 0.0653409 , 0.05821916, 0.2146613 ]],\n",
       "      dtype=float32)"
      ]
     },
     "execution_count": 7,
     "metadata": {},
     "output_type": "execute_result"
    }
   ],
   "source": [
    "# The tf.nn.softmax function converts these logits to probabilities for each class\n",
    "tf.nn.softmax(predictions).numpy()"
   ]
  },
  {
   "cell_type": "code",
   "execution_count": 8,
   "metadata": {},
   "outputs": [],
   "source": [
    "# Define a loss function for training using losses.SparseCategoricalCrossentropy\n",
    "# The loss function takes a vector of ground truth values and a vector of logits \n",
    "# and returns a scalar loss for each example. This loss is equal to the negative\n",
    "# log probability of the true class: The loss is zero if the model is sure of the \n",
    "# correct class. This untrained model gives probabilities close to random \n",
    "# (1/10 for each class)\n",
    "loss_fn = tf.keras.losses.SparseCategoricalCrossentropy(from_logits=True)"
   ]
  },
  {
   "cell_type": "code",
   "execution_count": 9,
   "metadata": {},
   "outputs": [
    {
     "data": {
      "text/plain": [
       "2.5415754"
      ]
     },
     "execution_count": 9,
     "metadata": {},
     "output_type": "execute_result"
    }
   ],
   "source": [
    "loss_fn(y_train[:1], predictions).numpy()"
   ]
  },
  {
   "cell_type": "code",
   "execution_count": 10,
   "metadata": {},
   "outputs": [],
   "source": [
    "# Configure and compile the model using Keras Model.compile. Set the optimizer \n",
    "# class to adam, set the loss to the loss_fn function defined earlier, and \n",
    "# specify a metric to be evaluated for the model by setting the metrics parameter\n",
    "# to accuracy\n",
    "model.compile(optimizer='adam',\n",
    "              loss=loss_fn,\n",
    "              metrics=['accuracy'])"
   ]
  },
  {
   "attachments": {},
   "cell_type": "markdown",
   "metadata": {},
   "source": [
    "## Step 4: Train and evaluate the model"
   ]
  },
  {
   "cell_type": "code",
   "execution_count": 11,
   "metadata": {},
   "outputs": [
    {
     "name": "stdout",
     "output_type": "stream",
     "text": [
      "Epoch 1/5\n",
      "1875/1875 [==============================] - 4s 2ms/step - loss: 0.2912 - accuracy: 0.9152\n",
      "Epoch 2/5\n",
      "1875/1875 [==============================] - 3s 2ms/step - loss: 0.1419 - accuracy: 0.9580\n",
      "Epoch 3/5\n",
      "1875/1875 [==============================] - 3s 1ms/step - loss: 0.1064 - accuracy: 0.9676\n",
      "Epoch 4/5\n",
      "1875/1875 [==============================] - 3s 1ms/step - loss: 0.0884 - accuracy: 0.9729\n",
      "Epoch 5/5\n",
      "1875/1875 [==============================] - 3s 2ms/step - loss: 0.0746 - accuracy: 0.9761\n"
     ]
    },
    {
     "data": {
      "text/plain": [
       "<keras.callbacks.History at 0x13fed9f30>"
      ]
     },
     "execution_count": 11,
     "metadata": {},
     "output_type": "execute_result"
    }
   ],
   "source": [
    "# Use the Model.fit method to adjust your model parameters and minimize the loss\n",
    "model.fit(x_train, y_train, epochs=5)"
   ]
  },
  {
   "cell_type": "code",
   "execution_count": 12,
   "metadata": {},
   "outputs": [
    {
     "name": "stdout",
     "output_type": "stream",
     "text": [
      "313/313 - 0s - loss: 0.0774 - accuracy: 0.9772 - 387ms/epoch - 1ms/step\n"
     ]
    },
    {
     "data": {
      "text/plain": [
       "[0.07737389206886292, 0.9771999716758728]"
      ]
     },
     "execution_count": 12,
     "metadata": {},
     "output_type": "execute_result"
    }
   ],
   "source": [
    "# Use the Model.evaluate method to check the model's performance\n",
    "# (usually on a validation set or test set)\n",
    "model.evaluate(x_test,  y_test, verbose=2)"
   ]
  },
  {
   "cell_type": "code",
   "execution_count": 13,
   "metadata": {},
   "outputs": [],
   "source": [
    "# To return a probability, wrap the trained model, and attach the softmax to it\n",
    "probability_model = tf.keras.Sequential([\n",
    "  model,\n",
    "  tf.keras.layers.Softmax()\n",
    "])"
   ]
  },
  {
   "cell_type": "code",
   "execution_count": 14,
   "metadata": {},
   "outputs": [
    {
     "data": {
      "text/plain": [
       "<tf.Tensor: shape=(5, 10), dtype=float32, numpy=\n",
       "array([[2.1271688e-07, 2.2126376e-09, 2.2190145e-06, 2.1177578e-04,\n",
       "        9.2673690e-12, 1.5853747e-07, 7.7941330e-16, 9.9978298e-01,\n",
       "        8.8108806e-08, 2.6214589e-06],\n",
       "       [2.3014521e-09, 3.8711546e-06, 9.9999344e-01, 2.5787792e-06,\n",
       "        2.6527340e-15, 3.6198173e-08, 5.2149609e-09, 1.2493834e-14,\n",
       "        9.9902522e-08, 4.4355893e-13],\n",
       "       [1.6396561e-07, 9.9879563e-01, 1.6209485e-04, 1.8059609e-05,\n",
       "        5.2159721e-05, 6.2514318e-06, 6.9800350e-05, 6.0526910e-04,\n",
       "        2.8240849e-04, 8.1568569e-06],\n",
       "       [9.9963820e-01, 2.4869873e-08, 2.5072083e-04, 2.7807921e-08,\n",
       "        8.4042114e-08, 3.3201175e-06, 1.4431982e-06, 9.7718017e-05,\n",
       "        1.7256982e-08, 8.3928544e-06],\n",
       "       [5.4780645e-05, 2.3070065e-08, 8.9600408e-06, 3.7197829e-08,\n",
       "        9.9054468e-01, 4.9822432e-07, 2.1790194e-05, 2.3615561e-04,\n",
       "        7.3724271e-07, 9.1322893e-03]], dtype=float32)>"
      ]
     },
     "execution_count": 14,
     "metadata": {},
     "output_type": "execute_result"
    }
   ],
   "source": [
    "probability_model(x_test[:5])"
   ]
  },
  {
   "attachments": {},
   "cell_type": "markdown",
   "metadata": {},
   "source": [
    "## Manually check if it works... \n",
    "\n",
    "Print the index of the largest softmax probability for the 0th item in our MNIST\n",
    "dataset & visualise that image to see if they match!"
   ]
  },
  {
   "cell_type": "code",
   "execution_count": 28,
   "metadata": {},
   "outputs": [
    {
     "data": {
      "text/plain": [
       "<tf.Tensor: shape=(5, 10), dtype=float32, numpy=\n",
       "array([[2.1271688e-07, 2.2126376e-09, 2.2190145e-06, 2.1177578e-04,\n",
       "        9.2673690e-12, 1.5853747e-07, 7.7941330e-16, 9.9978298e-01,\n",
       "        8.8108806e-08, 2.6214589e-06],\n",
       "       [2.3014521e-09, 3.8711546e-06, 9.9999344e-01, 2.5787792e-06,\n",
       "        2.6527340e-15, 3.6198173e-08, 5.2149609e-09, 1.2493834e-14,\n",
       "        9.9902522e-08, 4.4355893e-13],\n",
       "       [1.6396561e-07, 9.9879563e-01, 1.6209485e-04, 1.8059609e-05,\n",
       "        5.2159721e-05, 6.2514318e-06, 6.9800350e-05, 6.0526910e-04,\n",
       "        2.8240849e-04, 8.1568569e-06],\n",
       "       [9.9963820e-01, 2.4869873e-08, 2.5072083e-04, 2.7807921e-08,\n",
       "        8.4042114e-08, 3.3201175e-06, 1.4431982e-06, 9.7718017e-05,\n",
       "        1.7256982e-08, 8.3928544e-06],\n",
       "       [5.4780645e-05, 2.3070065e-08, 8.9600408e-06, 3.7197829e-08,\n",
       "        9.9054468e-01, 4.9822432e-07, 2.1790194e-05, 2.3615561e-04,\n",
       "        7.3724271e-07, 9.1322893e-03]], dtype=float32)>"
      ]
     },
     "execution_count": 28,
     "metadata": {},
     "output_type": "execute_result"
    }
   ],
   "source": [
    "probability_model(x_test[:5])"
   ]
  },
  {
   "cell_type": "code",
   "execution_count": 54,
   "metadata": {},
   "outputs": [
    {
     "name": "stdout",
     "output_type": "stream",
     "text": [
      "7\n",
      "2\n",
      "1\n",
      "0\n",
      "4\n"
     ]
    }
   ],
   "source": [
    "preds = probability_model(x_test[:5])\n",
    "for pred in preds:\n",
    "    print(pred.numpy().argmax())"
   ]
  },
  {
   "cell_type": "code",
   "execution_count": 55,
   "metadata": {},
   "outputs": [
    {
     "data": {
      "image/png": "[encoded data removed]",
      "text/plain": [
       "<Figure size 640x480 with 1 Axes>"
      ]
     },
     "metadata": {},
     "output_type": "display_data"
    },
    {
     "data": {
      "image/png": "[encoded data removed]",
      "text/plain": [
       "<Figure size 640x480 with 1 Axes>"
      ]
     },
     "metadata": {},
     "output_type": "display_data"
    },
    {
     "data": {
      "image/png": "[encoded data removed]",
      "text/plain": [
       "<Figure size 640x480 with 1 Axes>"
      ]
     },
     "metadata": {},
     "output_type": "display_data"
    },
    {
     "data": {
      "image/png": "[encoded data removed]",
      "text/plain": [
       "<Figure size 640x480 with 1 Axes>"
      ]
     },
     "metadata": {},
     "output_type": "display_data"
    },
    {
     "data": {
      "image/png": "[encoded data removed]",
      "text/plain": [
       "<Figure size 640x480 with 1 Axes>"
      ]
     },
     "metadata": {},
     "output_type": "display_data"
    }
   ],
   "source": [
    "for i in range(5):  \n",
    "    pyplot.subplot(330 + 1 + i)\n",
    "    pyplot.imshow(x_test[i], cmap=pyplot.get_cmap('gray'))\n",
    "    pyplot.show()"
   ]
  }
 ],
 "metadata": {
  "kernelspec": {
   "display_name": "Python 3",
   "language": "python",
   "name": "python3"
  },
  "language_info": {
   "codemirror_mode": {
    "name": "ipython",
    "version": 3
   },
   "file_extension": ".py",
   "mimetype": "text/x-python",
   "name": "python",
   "nbconvert_exporter": "python",
   "pygments_lexer": "ipython3",
   "version": "3.10.5"
  },
  "orig_nbformat": 4
 },
 "nbformat": 4,
 "nbformat_minor": 2
}
