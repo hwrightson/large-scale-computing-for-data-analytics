{
  "nbformat": 4,
  "nbformat_minor": 0,
  "metadata": {
    "colab": {
      "provenance": []
    },
    "kernelspec": {
      "name": "python3",
      "display_name": "Python 3"
    },
    "language_info": {
      "name": "python"
    }
  },
  "cells": [
    {
      "cell_type": "code",
      "execution_count": null,
      "metadata": {
        "id": "hY66jXXZ3372"
      },
      "outputs": [],
      "source": [
        "import tensorflow as tf\n",
        "import numpy as np\n",
        "import matplotlib.pyplot as plt\n",
        "from IPython import display\n",
        "\n",
        "plt.style.use('ggplot')\n",
        "np.random.seed(42)"
      ]
    },
    {
      "cell_type": "code",
      "source": [
        "N = 50\n",
        "\n",
        "xdata = np.linspace(0, 5, N)\n",
        "\n",
        "beta0 = 2\n",
        "beta1 = 2\n",
        "episolon = 1\n",
        "\n",
        "ydata = beta0 + beta1*xdata + epsilon*np.random.normal(size=N)"
      ],
      "metadata": {
        "id": "IJQND5wx4G2f"
      },
      "execution_count": null,
      "outputs": []
    },
    {
      "cell_type": "code",
      "source": [
        "plt.plot(xdata, ydata, '*-')\n",
        "plt.xlabel('x')\n",
        "plt.ylabel('y')\n",
        "plt.ylim(0,10)\n",
        "plt.title(\"Training data\")\n",
        "plt.show()"
      ],
      "metadata": {
        "id": "pB8Y0cLa4Xsd"
      },
      "execution_count": null,
      "outputs": []
    },
    {
      "cell_type": "code",
      "source": [
        "b0 = tf.Variable(0.4)\n",
        "b1 = tf.Variable(0.1)"
      ],
      "metadata": {
        "id": "s19byHVl4kEl"
      },
      "execution_count": null,
      "outputs": []
    },
    {
      "cell_type": "markdown",
      "source": [
        "Define linear model inside function"
      ],
      "metadata": {
        "id": "sIuiWzo54vCs"
      }
    },
    {
      "cell_type": "code",
      "source": [
        "def LinearModel(x):\n",
        "  return tf.add(tf.multiply(x, b1), b0)"
      ],
      "metadata": {
        "id": "cfTtdzxn4uiZ"
      },
      "execution_count": null,
      "outputs": []
    },
    {
      "cell_type": "markdown",
      "source": [
        "Define MSE loss"
      ],
      "metadata": {
        "id": "qtB4nji3490X"
      }
    },
    {
      "cell_type": "code",
      "source": [
        "optimiser = tf.keras.optimzers.Adam(lr=0.1)\n",
        "\n",
        "def loss(y, pred):\n",
        "  return tf.reduce_mean(tf.square(y - pred))"
      ],
      "metadata": {
        "id": "HNTk27ie4_I5"
      },
      "execution_count": null,
      "outputs": []
    },
    {
      "cell_type": "markdown",
      "source": [
        "Compute gradient descent"
      ],
      "metadata": {
        "id": "sjY0NB745KHA"
      }
    },
    {
      "cell_type": "code",
      "source": [
        "def train(x, y):\n",
        "  with tf.GradientTape as tape:\n",
        "    predicted = LinearModel(x)\n",
        "    current_loss = loss(y, predicted)\n",
        "    gradients = tape.gradients(current_loss, [b1, b0])\n",
        "    optimiser.apply_gradients(zip(gradients, [b1, b0]))\n",
        "  return b1, b0, predicted, current_loss  "
      ],
      "metadata": {
        "id": "BbWRw9Oj5F21"
      },
      "execution_count": null,
      "outputs": []
    },
    {
      "cell_type": "markdown",
      "source": [
        "Test and visualise with 30 epochs"
      ],
      "metadata": {
        "id": "D823eAts7csW"
      }
    },
    {
      "cell_type": "code",
      "source": [
        "epochs = range(30)\n",
        "\n",
        "for epoch in epochs:\n",
        "  slope, intercept, pred, training_loss = train(xdata, ydata)\n",
        "  plt.clf()\n",
        "  plt.plot(xdata, ydata, 'o', label='original data')\n",
        "  plt.plot(xdata, pred, label='fitted line')\n",
        "  plt.title(f'Epoch={epoch + 1: 3d}, loss={training_loss: .4f}, intercept={slope: .4f}')\n",
        "  display.display(plt.gcf())\n",
        "  display.clear_output(wait=True)"
      ],
      "metadata": {
        "id": "KA9nvezO51BF"
      },
      "execution_count": null,
      "outputs": []
    },
    {
      "cell_type": "markdown",
      "source": [
        "Run on 300 epochs and see how results change"
      ],
      "metadata": {
        "id": "AB-5h2Vm7fFa"
      }
    },
    {
      "cell_type": "code",
      "source": [
        "epochs = range(300)\n",
        "\n",
        "for epoch in epochs:\n",
        "  slope, intercept, pred, training_loss = train(xdata, ydata)"
      ],
      "metadata": {
        "id": "0cW_IrT17b2g"
      },
      "execution_count": null,
      "outputs": []
    },
    {
      "cell_type": "code",
      "source": [
        "predictions = slope * xdata + intercept\n",
        "print(\"Training loss:\", training_loss,\n",
        "      \"slope:\", slope,\n",
        "      \"intercept:\", intercept,\n",
        "      \"\\n\")"
      ],
      "metadata": {
        "id": "Xr_9oOuu6_eB"
      },
      "execution_count": null,
      "outputs": []
    },
    {
      "cell_type": "code",
      "source": [
        "plt.plot(xdata, ydata, 'o', label='original data')\n",
        "plt.plot(xdata, pred, label='fitted line')\n",
        "plt.title(f'Epoch={epoch + 1: 3d}, loss={training_loss: .4f}, intercept={slope: .4f}')"
      ],
      "metadata": {
        "id": "kBcwy4bm7W90"
      },
      "execution_count": null,
      "outputs": []
    }
  ]
}