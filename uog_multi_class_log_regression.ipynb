{
 "cells": [
  {
   "cell_type": "code",
   "execution_count": 4,
   "metadata": {},
   "outputs": [],
   "source": [
    "import tensorflow as tf\n",
    "import numpy as np\n",
    "import matplotlib.pyplot as plt\n",
    "import tensorboard as tb    \n",
    "\n",
    "np.set_printoptions(precision=3, suppress=True)"
   ]
  },
  {
   "cell_type": "code",
   "execution_count": 5,
   "metadata": {},
   "outputs": [],
   "source": [
    "# Load data\n",
    "(x_train, y_train), (x_test, y_test) = tf.keras.datasets.mnist.load_data()\n",
    "\n",
    "# Convert to float32\n",
    "x_train, x_test = np.array(x_train, np.float32), np.array(x_test, np.float32)\n",
    "\n",
    "# Flatten images to vectors of length 784 (28*28)\n",
    "x_train, x_test = x_train.reshape([-1, 784]), x_test.reshape([-1, 784])\n",
    "\n",
    "# Normalize the pixel intensities to make sure their values are between 0 to 1\n",
    "# by dividing them by 255\n",
    "x_train, x_test = x_train / 255., x_test / 255.\n",
    "\n",
    "# Train on only 50000 images and keep 10000 images as validation data.\n",
    "x_validate = x_train[0:10000,:]\n",
    "y_validate = y_train[0:10000]\n",
    "\n",
    "x_train = x_train[10000:,:]\n",
    "y_train = y_train[10000:]"
   ]
  },
  {
   "cell_type": "code",
   "execution_count": 6,
   "metadata": {},
   "outputs": [],
   "source": [
    "# MNIST dataset parameters\n",
    "num_classes = 10\n",
    "num_features = 784"
   ]
  },
  {
   "cell_type": "code",
   "execution_count": 7,
   "metadata": {},
   "outputs": [],
   "source": [
    "# Weight of shape [784, 10], the 28*28 image features, and a total number of classes.\n",
    "W = tf.Variable(tf.ones([num_features, num_classes]), name=\"weight\")\n",
    "\n",
    "# Bias of shape [10], the total number of classes.\n",
    "b = tf.Variable(tf.zeros([num_classes]), name=\"bias\")"
   ]
  },
  {
   "cell_type": "code",
   "execution_count": 13,
   "metadata": {},
   "outputs": [],
   "source": [
    "# Predicted probability for each class\n",
    "def logistic_regression(x):\n",
    "    return tf.nn.softmax(tf.matmul(x, W) + b)\n",
    "\n",
    "# Cross-Entropy loss function  \n",
    "@tf.function\n",
    "def loss(x, y):\n",
    "    y_true = tf.one_hot(y, depth=num_classes)\n",
    "    y_pred = logistic_regression(x)\n",
    "    return tf.reduce_mean(-tf.reduce_sum(y_true * tf.math.log(y_pred), axis=1))\n",
    "\n",
    "# Accuracy metric\n",
    "def accuracy(x, y):\n",
    "    y_prob = logistic_regression(x)\n",
    "    correct_prediction = tf.equal(tf.argmax(y_prob, 1), tf.cast(y, tf.int64))\n",
    "    accuracy = tf.reduce_mean(tf.cast(correct_prediction, tf.float32)).numpy()\n",
    "    return accuracy"
   ]
  },
  {
   "cell_type": "code",
   "execution_count": 9,
   "metadata": {},
   "outputs": [],
   "source": [
    "# Training parameters\n",
    "learning_rate = 0.01\n",
    "training_steps = 1000\n",
    "display_step = 50\n",
    "optimizer = tf.optimizers.SGD(learning_rate)"
   ]
  },
  {
   "cell_type": "code",
   "execution_count": 14,
   "metadata": {},
   "outputs": [
    {
     "name": "stdout",
     "output_type": "stream",
     "text": [
      "i: 0, loss: 2.302583\n",
      "i: 50, loss: 1.860419\n",
      "i: 100, loss: 1.556958\n",
      "i: 150, loss: 1.346290\n",
      "i: 200, loss: 1.196297\n",
      "i: 250, loss: 1.085809\n",
      "i: 300, loss: 1.001628\n",
      "i: 350, loss: 0.935540\n",
      "i: 400, loss: 0.882309\n",
      "i: 450, loss: 0.838496\n",
      "i: 500, loss: 0.801770\n",
      "i: 550, loss: 0.770505\n",
      "i: 600, loss: 0.743533\n",
      "i: 650, loss: 0.720001\n",
      "i: 700, loss: 0.699264\n",
      "i: 750, loss: 0.680835\n",
      "i: 800, loss: 0.664329\n",
      "i: 850, loss: 0.649449\n",
      "i: 900, loss: 0.635953\n",
      "i: 950, loss: 0.623647\n"
     ]
    }
   ],
   "source": [
    "# Optimization process \n",
    "for i in range(training_steps):\n",
    "    with tf.GradientTape() as tape:\n",
    "        current_loss = loss(x_train, y_train)\n",
    "    gradiants = tape.gradient(current_loss, [W, b])\n",
    "    optimizer.apply_gradients(zip(gradiants, [W, b]))\n",
    "    if i % display_step == 0:\n",
    "        print(\"i: %i, loss: %f\" % (i, current_loss))"
   ]
  },
  {
   "cell_type": "code",
   "execution_count": 15,
   "metadata": {},
   "outputs": [
    {
     "data": {
      "text/plain": [
       "0.86038"
      ]
     },
     "execution_count": 15,
     "metadata": {},
     "output_type": "execute_result"
    }
   ],
   "source": [
    "accuracy(x_train, y_train)"
   ]
  },
  {
   "cell_type": "code",
   "execution_count": null,
   "metadata": {},
   "outputs": [],
   "source": [
    "# Tensorboard setup\n",
    "logdir = 'tflogs'\n",
    "writer = tf.summary.create_file_writer(logdir)"
   ]
  },
  {
   "cell_type": "code",
   "execution_count": 18,
   "metadata": {},
   "outputs": [],
   "source": [
    "# Optimization process with tensorboard\n",
    "with writer.as_default():\n",
    "    for i in range(training_steps):\n",
    "        with tf.GradientTape() as tape:\n",
    "            current_loss = loss(x_train,y_train)\n",
    "        gradients = tape.gradient(current_loss, [W, b])\n",
    "        optimizer.apply_gradients(zip(gradients, [W ,b]))\n",
    "        # calculate the validation accuracy\n",
    "        val_acc = accuracy(x_validate,y_validate)\n",
    "        # write the value to tensorboard\n",
    "        tf.summary.scalar('val_acc', val_acc, step=i)"
   ]
  },
  {
   "cell_type": "code",
   "execution_count": 19,
   "metadata": {},
   "outputs": [
    {
     "name": "stderr",
     "output_type": "stream",
     "text": [
      "UsageError: Line magic function `%tensorboard` not found.\n"
     ]
    }
   ],
   "source": [
    "# run tensorboard in colab or jupyter notebook\n",
    "%tensorboard --logdir tflogs"
   ]
  }
 ],
 "metadata": {
  "kernelspec": {
   "display_name": "Python 3",
   "language": "python",
   "name": "python3"
  },
  "language_info": {
   "codemirror_mode": {
    "name": "ipython",
    "version": 3
   },
   "file_extension": ".py",
   "mimetype": "text/x-python",
   "name": "python",
   "nbconvert_exporter": "python",
   "pygments_lexer": "ipython3",
   "version": "3.10.5"
  },
  "orig_nbformat": 4
 },
 "nbformat": 4,
 "nbformat_minor": 2
}
